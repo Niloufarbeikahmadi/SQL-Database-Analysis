{
  "metadata": {
    "kernelspec": {
      "name": "python",
      "display_name": "Python (Pyodide)",
      "language": "python"
    },
    "language_info": {
      "codemirror_mode": {
        "name": "python",
        "version": 3
      },
      "file_extension": ".py",
      "mimetype": "text/x-python",
      "name": "python",
      "nbconvert_exporter": "python",
      "pygments_lexer": "ipython3",
      "version": "3.8"
    }
  },
  "nbformat_minor": 4,
  "nbformat": 4,
  "cells": [
    {
      "cell_type": "markdown",
      "source": "\n# Create & Access SQLite database using Python\n\n\n## Objectives\n\nAfter completing this lab we will be able to:\n\n*   Create a database\n*   Create a table\n*   Insert data into the table\n*   Query data from the table\n*   Retrieve the result set into a pandas dataframe\n*   Close the database connection\n",
      "metadata": {}
    },
    {
      "cell_type": "markdown",
      "source": "**SQLite** is a software library that implements a self-contained, serverless, zero-configuration, transactional SQL database engine. SQLite is the most widely deployed SQL database engine in the world.\n\n## Task 1: Create database using SQLite\n",
      "metadata": {}
    },
    {
      "cell_type": "code",
      "source": "#Install & load sqlite3\n#!pip install sqlite3  ##Uncomment the code to install sqlite3\nimport sqlite3",
      "metadata": {},
      "outputs": [],
      "execution_count": 1
    },
    {
      "cell_type": "code",
      "source": "# Connecting to sqlite\n# connection object\nconn = sqlite3.connect('INSTRUCTOR.db')",
      "metadata": {},
      "outputs": [],
      "execution_count": 2
    },
    {
      "cell_type": "markdown",
      "source": "Cursor class is an instance using which we can invoke methods that execute SQLite statements, fetch data from the result sets of the queries. We can create Cursor object using the **cursor()** method of the Connection object/class.\n",
      "metadata": {}
    },
    {
      "cell_type": "code",
      "source": "# cursor object\ncursor_obj = conn.cursor()",
      "metadata": {
        "scrolled": true
      },
      "outputs": [],
      "execution_count": 3
    },
    {
      "cell_type": "markdown",
      "source": "## Task 2: Create a table in the database\n\nIn this step we will create a table in the database with following details:\n\n<img src=\"https://cf-courses-data.s3.us.cloud-object-storage.appdomain.cloud/IBMDeveloperSkillsNetwork-DB0201EN-SkillsNetwork/labs/FinalModule_Coursera_V5/images/table.png\" align=\"center\">\n",
      "metadata": {}
    },
    {
      "cell_type": "markdown",
      "source": "Before creating a table, let's first if the table already exist or not. To drop the table from a database use **DROP** query. A cursor is an object which helps to execute the query and fetch the records from the database.\n",
      "metadata": {}
    },
    {
      "cell_type": "code",
      "source": "# Drop the table if already exists.\ncursor_obj.execute(\"DROP TABLE IF EXISTS INSTRUCTOR\")",
      "metadata": {},
      "outputs": [
        {
          "data": {
            "text/plain": [
              "<sqlite3.Cursor at 0x7f36f0669b20>"
            ]
          },
          "execution_count": 4,
          "metadata": {},
          "output_type": "execute_result"
        }
      ],
      "execution_count": 4
    },
    {
      "cell_type": "code",
      "source": "# Creating table\ntable = \"\"\" create table IF NOT EXISTS INSTRUCTOR(ID INTEGER PRIMARY KEY NOT NULL, FNAME VARCHAR(20), LNAME VARCHAR(20), CITY VARCHAR(20), CCODE CHAR(2));\"\"\"\n \ncursor_obj.execute(table)\n \nprint(\"Table is Ready\")",
      "metadata": {},
      "outputs": [
        {
          "name": "stdout",
          "output_type": "stream",
          "text": "Table is Ready\n"
        }
      ],
      "execution_count": 5
    },
    {
      "cell_type": "markdown",
      "source": "## Task 3: Insert data into the table\n\nIn this step we will insert some rows of data into the table.\n\nThe INSTRUCTOR table we created in the previous step contains 3 rows of data:\n\n<img src=\"https://cf-courses-data.s3.us.cloud-object-storage.appdomain.cloud/IBMDeveloperSkillsNetwork-DB0201EN-SkillsNetwork/labs/FinalModule_Coursera_V5/images/table1.png\" align=\"center\">\n\nWe will start by inserting just the first row of data, i.e. for instructor Rav Ahuja\n",
      "metadata": {}
    },
    {
      "cell_type": "code",
      "source": "cursor_obj.execute('''insert into INSTRUCTOR values (1, 'Rav', 'Ahuja', 'TORONTO', 'CA')''')",
      "metadata": {},
      "outputs": [
        {
          "data": {
            "text/plain": [
              "<sqlite3.Cursor at 0x7f36f0669b20>"
            ]
          },
          "execution_count": 6,
          "metadata": {},
          "output_type": "execute_result"
        }
      ],
      "execution_count": 6
    },
    {
      "cell_type": "markdown",
      "source": "\n\nNow use a single query to insert the remaining two rows of data\n",
      "metadata": {}
    },
    {
      "cell_type": "code",
      "source": "cursor_obj.execute('''insert into INSTRUCTOR values (2, 'Raul', 'Chong', 'Markham', 'CA'), (3, 'Hima', 'Vasudevan', 'Chicago', 'US')''')",
      "metadata": {},
      "outputs": [
        {
          "data": {
            "text/plain": [
              "<sqlite3.Cursor at 0x7f36f0669b20>"
            ]
          },
          "execution_count": 7,
          "metadata": {},
          "output_type": "execute_result"
        }
      ],
      "execution_count": 7
    },
    {
      "cell_type": "markdown",
      "source": "## Task 4: Query data in the table\n\nIn this step we will retrieve data we inserted into the INSTRUCTOR table.\n",
      "metadata": {}
    },
    {
      "cell_type": "code",
      "source": "statement = '''SELECT * FROM INSTRUCTOR'''\ncursor_obj.execute(statement)\n\nprint(\"All the data\")\noutput_all = cursor_obj.fetchall()\nfor row_all in output_all:\n  print(row_all)",
      "metadata": {},
      "outputs": [
        {
          "name": "stdout",
          "output_type": "stream",
          "text": "All the data\n,(1, 'Rav', 'Ahuja', 'TORONTO', 'CA')\n,(2, 'Raul', 'Chong', 'Markham', 'CA')\n,(3, 'Hima', 'Vasudevan', 'Chicago', 'US')\n"
        }
      ],
      "execution_count": 8
    },
    {
      "cell_type": "code",
      "source": "## Fetch few rows from the table\nstatement = '''SELECT * FROM INSTRUCTOR'''\ncursor_obj.execute(statement)\n  \nprint(\"All the data\")\n# If you want to fetch few rows from the table we use fetchmany(numberofrows) and mention the number how many rows you want to fetch\noutput_many = cursor_obj.fetchmany(2) \nfor row_many in output_many:\n  print(row_many)",
      "metadata": {},
      "outputs": [
        {
          "name": "stdout",
          "output_type": "stream",
          "text": "All the data\n,(1, 'Rav', 'Ahuja', 'TORONTO', 'CA')\n,(2, 'Raul', 'Chong', 'Markham', 'CA')\n"
        }
      ],
      "execution_count": 9
    },
    {
      "cell_type": "code",
      "source": "# Fetch only FNAME from the table\nstatement = '''SELECT FNAME FROM INSTRUCTOR'''\ncursor_obj.execute(statement)\n  \nprint(\"All the data\")\noutput_column = cursor_obj.fetchall()\nfor fetch in output_column:\n  print(fetch)",
      "metadata": {
        "scrolled": true
      },
      "outputs": [
        {
          "name": "stdout",
          "output_type": "stream",
          "text": "All the data\n,('Rav',)\n,('Raul',)\n,('Hima',)\n"
        }
      ],
      "execution_count": 10
    },
    {
      "cell_type": "markdown",
      "source": "<Strong>Bonus: now write and execute an update statement that changes the Rav's CITY to MOOSETOWN</strong>\n",
      "metadata": {}
    },
    {
      "cell_type": "code",
      "source": "query_update='''update INSTRUCTOR set CITY='MOOSETOWN' where FNAME=\"Rav\"'''\ncursor_obj.execute(query_update)",
      "metadata": {},
      "outputs": [
        {
          "data": {
            "text/plain": [
              "<sqlite3.Cursor at 0x7f36f0669b20>"
            ]
          },
          "execution_count": 11,
          "metadata": {},
          "output_type": "execute_result"
        }
      ],
      "execution_count": 11
    },
    {
      "cell_type": "code",
      "source": "statement = '''SELECT * FROM INSTRUCTOR'''\ncursor_obj.execute(statement)\n  \nprint(\"All the data\")\noutput1 = cursor_obj.fetchmany(2)\nfor row in output1:\n  print(row)",
      "metadata": {
        "scrolled": true
      },
      "outputs": [
        {
          "name": "stdout",
          "output_type": "stream",
          "text": "All the data\n,(1, 'Rav', 'Ahuja', 'MOOSETOWN', 'CA')\n,(2, 'Raul', 'Chong', 'Markham', 'CA')\n"
        }
      ],
      "execution_count": 12
    },
    {
      "cell_type": "markdown",
      "source": "## Task 5: Retrieve data into Pandas\n\nIn this step we will retrieve the contents of the INSTRUCTOR table into a Pandas dataframe\n",
      "metadata": {}
    },
    {
      "cell_type": "code",
      "source": "import pandas as pd\n#retrieve the query results into a pandas dataframe\ndf = pd.read_sql_query(\"select * from instructor;\", conn)\n\n#print the dataframe\ndf",
      "metadata": {},
      "outputs": [
        {
          "data": {
            "text/html": [
              "<div>\n",
              "<style scoped>\n",
              "    .dataframe tbody tr th:only-of-type {\n",
              "        vertical-align: middle;\n",
              "    }\n",
              "\n",
              "    .dataframe tbody tr th {\n",
              "        vertical-align: top;\n",
              "    }\n",
              "\n",
              "    .dataframe thead th {\n",
              "        text-align: right;\n",
              "    }\n",
              "</style>\n",
              "<table border=\"1\" class=\"dataframe\">\n",
              "  <thead>\n",
              "    <tr style=\"text-align: right;\">\n",
              "      <th></th>\n",
              "      <th>ID</th>\n",
              "      <th>FNAME</th>\n",
              "      <th>LNAME</th>\n",
              "      <th>CITY</th>\n",
              "      <th>CCODE</th>\n",
              "    </tr>\n",
              "  </thead>\n",
              "  <tbody>\n",
              "    <tr>\n",
              "      <th>0</th>\n",
              "      <td>1</td>\n",
              "      <td>Rav</td>\n",
              "      <td>Ahuja</td>\n",
              "      <td>MOOSETOWN</td>\n",
              "      <td>CA</td>\n",
              "    </tr>\n",
              "    <tr>\n",
              "      <th>1</th>\n",
              "      <td>2</td>\n",
              "      <td>Raul</td>\n",
              "      <td>Chong</td>\n",
              "      <td>Markham</td>\n",
              "      <td>CA</td>\n",
              "    </tr>\n",
              "    <tr>\n",
              "      <th>2</th>\n",
              "      <td>3</td>\n",
              "      <td>Hima</td>\n",
              "      <td>Vasudevan</td>\n",
              "      <td>Chicago</td>\n",
              "      <td>US</td>\n",
              "    </tr>\n",
              "  </tbody>\n",
              "</table>\n",
              "</div>"
            ],
            "text/plain": [
              "   ID FNAME      LNAME       CITY CCODE\n",
              "0   1   Rav      Ahuja  MOOSETOWN    CA\n",
              "1   2  Raul      Chong    Markham    CA\n",
              "2   3  Hima  Vasudevan    Chicago    US"
            ]
          },
          "execution_count": 13,
          "metadata": {},
          "output_type": "execute_result"
        }
      ],
      "execution_count": 13
    },
    {
      "cell_type": "code",
      "source": "#print just the LNAME for first row in the pandas data frame\ndf.LNAME[0]",
      "metadata": {},
      "outputs": [
        {
          "data": {
            "text/plain": [
              "'Ahuja'"
            ]
          },
          "execution_count": 14,
          "metadata": {},
          "output_type": "execute_result"
        }
      ],
      "execution_count": 14
    },
    {
      "cell_type": "markdown",
      "source": "Once the data is in a Pandas dataframe, we can do the typical pandas operations on it.\n",
      "metadata": {}
    },
    {
      "cell_type": "code",
      "source": "df.shape",
      "metadata": {
        "scrolled": true
      },
      "outputs": [
        {
          "data": {
            "text/plain": [
              "(3, 5)"
            ]
          },
          "execution_count": 15,
          "metadata": {},
          "output_type": "execute_result"
        }
      ],
      "execution_count": 15
    },
    {
      "cell_type": "markdown",
      "source": "## Task 6: Close the Connection\n\nWe free all resources by closing the connection. Remember that it is always important to close connections so that we can avoid unused connections taking up resources.\n",
      "metadata": {}
    },
    {
      "cell_type": "code",
      "source": "# Close the connection\nconn.close()",
      "metadata": {},
      "outputs": [],
      "execution_count": 16
    }
  ]
}